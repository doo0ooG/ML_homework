{
 "cells": [
  {
   "cell_type": "code",
   "execution_count": 3,
   "id": "cd359031",
   "metadata": {},
   "outputs": [],
   "source": [
    "seq = ['asasda', 'asasdasdasddasd', 'asd']\n"
   ]
  },
  {
   "cell_type": "code",
   "execution_count": 5,
   "id": "5fbcfd2f",
   "metadata": {},
   "outputs": [],
   "source": [
    "l = range(len(seq))"
   ]
  },
  {
   "cell_type": "code",
   "execution_count": 6,
   "id": "24c18154",
   "metadata": {},
   "outputs": [
    {
     "data": {
      "text/plain": [
       "[0, 1, 2]"
      ]
     },
     "execution_count": 6,
     "metadata": {},
     "output_type": "execute_result"
    }
   ],
   "source": [
    "sorted(l, key = lambda x: seq[x])"
   ]
  },
  {
   "cell_type": "code",
   "execution_count": 10,
   "id": "6deae8fb",
   "metadata": {},
   "outputs": [
    {
     "name": "stderr",
     "output_type": "stream",
     "text": [
      "-------- Dataset Build! --------\n",
      "-------- Get Dataloader! --------\n"
     ]
    }
   ],
   "source": [
    "import utils\n",
    "import config\n",
    "import logging\n",
    "from data_loader import MTDataset\n",
    "from torch.utils.data import DataLoader\n",
    "\n",
    "\n",
    "utils.set_logger(config.log_path)\n",
    "\n",
    "train_dataset = MTDataset(config.train_data_path)\n",
    "dev_dataset = MTDataset(config.dev_data_path)\n",
    "test_dataset = MTDataset(config.test_data_path)\n",
    "# logging.info(dev_dataset[295][0])\n",
    "# logging.info(dev_dataset[295][1])\n",
    "logging.info(\"-------- Dataset Build! --------\")\n",
    "train_dataloader = DataLoader(train_dataset, shuffle=True, batch_size=config.batch_size,\n",
    "                                collate_fn=train_dataset.collate_fn)\n",
    "dev_dataloader = DataLoader(dev_dataset, shuffle=False, batch_size=config.batch_size,\n",
    "                            collate_fn=dev_dataset.collate_fn)\n",
    "test_dataloader = DataLoader(test_dataset, shuffle=False, batch_size=config.batch_size,\n",
    "                                collate_fn=test_dataset.collate_fn)\n",
    "logging.info(\"-------- Get Dataloader! --------\")\n",
    "\n",
    "src = 1\n",
    "batch = 1\n",
    "tgt = 1\n",
    "tgt_y = 1\n",
    "tgt_key_padding_mask = 1\n",
    "tgt_mask = 1\n",
    "ntokens = 1\n",
    "\n",
    "\n",
    "for batch in dev_dataloader:\n",
    "    src = batch.src\n",
    "    src_key_padding_mask = batch.src_key_padding_mask\n",
    "    tgt = batch.tgt\n",
    "    tgt_y = batch.tgt_y\n",
    "    tgt_key_padding_mask = batch.tgt_key_padding_mask\n",
    "    tgt_mask = batch.tgt_mask\n",
    "    ntokens = batch.ntokens\n",
    "    break\n"
   ]
  },
  {
   "cell_type": "code",
   "execution_count": 11,
   "id": "9537287b",
   "metadata": {},
   "outputs": [
    {
     "data": {
      "text/plain": [
       "tensor([   2, 2768,    3,    0,    0], device='cuda:0')"
      ]
     },
     "execution_count": 11,
     "metadata": {},
     "output_type": "execute_result"
    }
   ],
   "source": [
    "src[0]"
   ]
  },
  {
   "cell_type": "code",
   "execution_count": 12,
   "id": "168459a5",
   "metadata": {},
   "outputs": [
    {
     "data": {
      "text/plain": [
       "tensor([False, False, False,  True,  True])"
      ]
     },
     "execution_count": 12,
     "metadata": {},
     "output_type": "execute_result"
    }
   ],
   "source": [
    "src_key_padding_mask[0]"
   ]
  },
  {
   "cell_type": "code",
   "execution_count": 14,
   "id": "5851dcc7",
   "metadata": {},
   "outputs": [
    {
     "data": {
      "text/plain": [
       "torch.Size([32, 5])"
      ]
     },
     "execution_count": 14,
     "metadata": {},
     "output_type": "execute_result"
    }
   ],
   "source": [
    "src_key_padding_mask.shape"
   ]
  },
  {
   "cell_type": "code",
   "execution_count": 23,
   "id": "d937583f",
   "metadata": {},
   "outputs": [
    {
     "data": {
      "text/plain": [
       "torch.Size([32, 7])"
      ]
     },
     "execution_count": 23,
     "metadata": {},
     "output_type": "execute_result"
    }
   ],
   "source": [
    "tgt.shape"
   ]
  },
  {
   "cell_type": "code",
   "execution_count": 16,
   "id": "23c13927",
   "metadata": {},
   "outputs": [
    {
     "data": {
      "text/plain": [
       "tensor([15839,     3,     0,     0,     0,     0,     0], device='cuda:0')"
      ]
     },
     "execution_count": 16,
     "metadata": {},
     "output_type": "execute_result"
    }
   ],
   "source": [
    "tgt_y[0]"
   ]
  },
  {
   "cell_type": "code",
   "execution_count": 24,
   "id": "84a9c783",
   "metadata": {},
   "outputs": [
    {
     "data": {
      "text/plain": [
       "tensor([[ True, False, False, False, False, False, False],\n",
       "        [ True,  True, False, False, False, False, False],\n",
       "        [ True,  True,  True, False, False, False, False],\n",
       "        [ True,  True,  True,  True, False, False, False],\n",
       "        [ True,  True,  True,  True,  True, False, False],\n",
       "        [ True,  True,  True,  True,  True,  True, False],\n",
       "        [ True,  True,  True,  True,  True,  True,  True]], device='cuda:0')"
      ]
     },
     "execution_count": 24,
     "metadata": {},
     "output_type": "execute_result"
    }
   ],
   "source": [
    "tgt_mask"
   ]
  },
  {
   "cell_type": "code",
   "execution_count": 18,
   "id": "fcb82491",
   "metadata": {},
   "outputs": [
    {
     "data": {
      "text/plain": [
       "tensor(102, device='cuda:0')"
      ]
     },
     "execution_count": 18,
     "metadata": {},
     "output_type": "execute_result"
    }
   ],
   "source": [
    "ntokens"
   ]
  },
  {
   "cell_type": "code",
   "execution_count": 25,
   "id": "c981fce7",
   "metadata": {},
   "outputs": [
    {
     "data": {
      "text/plain": [
       "tensor([False, False, False, False, False,  True,  True], device='cuda:0')"
      ]
     },
     "execution_count": 25,
     "metadata": {},
     "output_type": "execute_result"
    }
   ],
   "source": [
    "tgt_key_padding_mask[31]"
   ]
  },
  {
   "cell_type": "code",
   "execution_count": null,
   "id": "de12f58d",
   "metadata": {},
   "outputs": [],
   "source": []
  }
 ],
 "metadata": {
  "kernelspec": {
   "display_name": "doog",
   "language": "python",
   "name": "python3"
  },
  "language_info": {
   "codemirror_mode": {
    "name": "ipython",
    "version": 3
   },
   "file_extension": ".py",
   "mimetype": "text/x-python",
   "name": "python",
   "nbconvert_exporter": "python",
   "pygments_lexer": "ipython3",
   "version": "3.10.6"
  }
 },
 "nbformat": 4,
 "nbformat_minor": 5
}

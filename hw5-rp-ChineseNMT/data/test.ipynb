{
 "cells": [
  {
   "cell_type": "code",
   "execution_count": 2,
   "id": "f4d7b95e",
   "metadata": {},
   "outputs": [],
   "source": [
    "import json\n",
    "from pathlib import Path"
   ]
  },
  {
   "cell_type": "code",
   "execution_count": 3,
   "id": "4240325c",
   "metadata": {},
   "outputs": [],
   "source": [
    "data = json.load(Path('./json/test.json').open())"
   ]
  },
  {
   "cell_type": "code",
   "execution_count": 5,
   "id": "da326256",
   "metadata": {},
   "outputs": [
    {
     "data": {
      "text/plain": [
       "list"
      ]
     },
     "execution_count": 5,
     "metadata": {},
     "output_type": "execute_result"
    }
   ],
   "source": [
    "type(data)"
   ]
  },
  {
   "cell_type": "code",
   "execution_count": 6,
   "id": "a58836a7",
   "metadata": {},
   "outputs": [
    {
     "data": {
      "text/plain": [
       "50556"
      ]
     },
     "execution_count": 6,
     "metadata": {},
     "output_type": "execute_result"
    }
   ],
   "source": [
    "len(data)"
   ]
  },
  {
   "cell_type": "code",
   "execution_count": 9,
   "id": "1feb8a9e",
   "metadata": {},
   "outputs": [
    {
     "name": "stdout",
     "output_type": "stream",
     "text": [
      "Loaded 176943 lines from json\\train.json\n",
      "Loaded 25278 lines from json\\dev.json\n",
      "Loaded 50556 lines from json\\test.json\n",
      "lines of Chinese: 252777\n",
      "lines of English: 252777\n"
     ]
    }
   ],
   "source": [
    "files = ['train', 'dev', 'test']\n",
    "\n",
    "json_fir = Path('./json')\n",
    "\n",
    "ch_lines = []\n",
    "en_lines = []\n",
    "\n",
    "ch_path = Path('./corpus.ch')\n",
    "en_path = Path('./corpus.en')\n",
    "\n",
    "for file_name in files:\n",
    "    json_file = json_fir / f'{file_name}.json'\n",
    "    \n",
    "    if not json_file.exists():\n",
    "        print(f'Warning: {json_file} dose not exist! Skipping...')\n",
    "        continue\n",
    "\n",
    "    with json_file.open('r', encoding = 'utf-8') as f:\n",
    "        corpus = json.load(f)\n",
    "\n",
    "    for en_text, ch_text in corpus:\n",
    "        ch_lines.append(ch_text.strip() + '\\n')\n",
    "        en_lines.append(en_text.strip() + '\\n')\n",
    "\n",
    "    print(f'Loaded {len(corpus)} lines from {json_file}')\n",
    "    \n",
    "with ch_path.open('w', encoding = 'utf-8') as f:\n",
    "    f.writelines(ch_lines)\n",
    "\n",
    "with en_path.open('w', encoding = 'utf-8') as f:\n",
    "    f.writelines(en_lines)\n",
    "\n",
    "print(f'lines of Chinese: {len(ch_lines)}')\n",
    "print(f'lines of English: {len(en_lines)}')"
   ]
  },
  {
   "cell_type": "code",
   "execution_count": null,
   "id": "6aa42be8",
   "metadata": {},
   "outputs": [],
   "source": []
  }
 ],
 "metadata": {
  "kernelspec": {
   "display_name": "doog",
   "language": "python",
   "name": "python3"
  },
  "language_info": {
   "codemirror_mode": {
    "name": "ipython",
    "version": 3
   },
   "file_extension": ".py",
   "mimetype": "text/x-python",
   "name": "python",
   "nbconvert_exporter": "python",
   "pygments_lexer": "ipython3",
   "version": "3.10.6"
  }
 },
 "nbformat": 4,
 "nbformat_minor": 5
}

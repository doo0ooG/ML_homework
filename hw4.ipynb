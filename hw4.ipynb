{
 "cells": [
  {
   "cell_type": "code",
   "execution_count": 1,
   "id": "3f0579f9",
   "metadata": {},
   "outputs": [],
   "source": [
    "import numpy as np\n",
    "import random\n",
    "import torch\n",
    "\n",
    "def same_seed(seed):\n",
    "    np.random.seed(seed)\n",
    "    random.seed(seed)\n",
    "    torch.manual_seed(seed)\n",
    "    if torch.cuda.is_available():\n",
    "        torch.cuda.manual_seed(seed)\n",
    "        torch.cuda.manual_seed_all(seed)\n",
    "\n",
    "    torch.backends.cudnn.deterministic = True\n",
    "    torch.backends.cudnn.benchmark = False\n",
    "\n",
    "same_seed(87)"
   ]
  },
  {
   "cell_type": "code",
   "execution_count": 2,
   "id": "3d58420c",
   "metadata": {},
   "outputs": [],
   "source": [
    "from pathlib import Path\n",
    "import json\n",
    "import os\n",
    "from torch.utils.data import Dataset, DataLoader"
   ]
  },
  {
   "cell_type": "code",
   "execution_count": 3,
   "id": "c009ba8f",
   "metadata": {},
   "outputs": [],
   "source": [
    "class myDataset(Dataset):\n",
    "    def __init__(self, data_dir, segment_len = 120):\n",
    "        # print(segment_len)\n",
    "        self.data_dir = data_dir\n",
    "        self.segment_len = segment_len\n",
    "        mapping_path = Path(self.data_dir) / 'mapping.json'\n",
    "        mapping = json.load(mapping_path.open())\n",
    "        self.speaker2id = mapping['speaker2id']\n",
    "        \n",
    "        metadata_path = Path(self.data_dir) / 'metadata.json'\n",
    "        metadata = json.load(metadata_path.open())['speakers']\n",
    "\n",
    "        self.speaker_num = len(metadata.keys())\n",
    "        self.data = []\n",
    "        for speakerid in metadata.keys():\n",
    "            for utterances in metadata[speakerid]:\n",
    "                self.data.append(\n",
    "                    [Path(self.data_dir) / utterances['feature_path'], \n",
    "                    self.speaker2id[speakerid]])\n",
    "\n",
    "    def __len__(self):\n",
    "        return len(self.data)\n",
    "    \n",
    "    def __getitem__(self, idx):\n",
    "        mel_path, id = self.data[idx]\n",
    "        mel = torch.load(mel_path)\n",
    "        mel_len = mel.shape[0]\n",
    "        if mel_len > self.segment_len:\n",
    "            start = random.randint(0, mel_len - self.segment_len)\n",
    "            mel = mel[start: start + self.segment_len, :]\n",
    "        return mel, torch.tensor(id).long()\n",
    "    \n",
    "    def get_speaker_num(self):\n",
    "        return self.speaker_num\n"
   ]
  },
  {
   "cell_type": "code",
   "execution_count": 4,
   "id": "60ba4a12",
   "metadata": {},
   "outputs": [],
   "source": [
    "from torch.utils.data import random_split\n",
    "from torch.nn.utils.rnn import pad_sequence"
   ]
  },
  {
   "cell_type": "code",
   "execution_count": 5,
   "id": "0a3ff216",
   "metadata": {},
   "outputs": [],
   "source": [
    "def Collate_batch(batch):\n",
    "    mels, speakers = zip(*batch)\n",
    "    mels = pad_sequence(mels, batch_first = True, padding_value = -20)\n",
    "    return mels, torch.tensor(speakers).long()\n",
    "\n",
    "\n",
    "def get_dataloader(data_dir, segment_len = 120, batch_size = 32, n_workers = 0):\n",
    "    # print(segment_len)\n",
    "    dataset = myDataset(data_dir, segment_len)\n",
    "    speaker_num = dataset.get_speaker_num()\n",
    "    train_len = int(len(dataset) * 0.9)\n",
    "    length = [train_len, len(dataset) - train_len]\n",
    "    trainset, validset = random_split(dataset, length)\n",
    "\n",
    "    train_loader = DataLoader(trainset, \n",
    "                              batch_size = batch_size, \n",
    "                              shuffle = True, \n",
    "                              drop_last = True,\n",
    "                              num_workers = n_workers,\n",
    "                              pin_memory = True,\n",
    "                              collate_fn = Collate_batch\n",
    "                              )\n",
    "\n",
    "    valid_loader = DataLoader(validset, \n",
    "                              batch_size = batch_size, \n",
    "                              shuffle = True, \n",
    "                              drop_last = True,\n",
    "                              num_workers = n_workers,\n",
    "                              pin_memory = True,\n",
    "                              collate_fn = Collate_batch\n",
    "                              )\n",
    "    \n",
    "    return train_loader, valid_loader, speaker_num"
   ]
  },
  {
   "cell_type": "code",
   "execution_count": 6,
   "id": "d1e94fef",
   "metadata": {},
   "outputs": [],
   "source": [
    "import torch.nn as nn\n",
    "import torch.nn.functional as F"
   ]
  },
  {
   "cell_type": "code",
   "execution_count": 7,
   "id": "03eea50a",
   "metadata": {},
   "outputs": [],
   "source": [
    "class Classifier(nn.Module):\n",
    "    def __init__(self, d_model = 80, n_spks = 600, dropout = 0.1):\n",
    "        super().__init__()\n",
    "        self.prenet = nn.Linear(40, d_model)\n",
    "        # TODO:\n",
    "        # Change Transformer to Conformer\n",
    "        self.encoder_layer = nn.TransformerEncoderLayer(\n",
    "            d_model = d_model,\n",
    "            dim_feedforward = 256,\n",
    "            nhead = 2\n",
    "        )\n",
    "        self.pred_layer = nn.Sequential(\n",
    "            nn.Linear(d_model, d_model),\n",
    "            nn.ReLU(),\n",
    "            nn.Linear(d_model, n_spks)\n",
    "        )\n",
    "\n",
    "    def forward(self, mels):\n",
    "        x = self.prenet(mels)\n",
    "        x = x.permute(1, 0, 2)\n",
    "        x = self.encoder_layer(x)\n",
    "        x = x.transpose(0, 1)\n",
    "        x = x.mean(dim = 1)\n",
    "        x = self.pred_layer(x)\n",
    "        return x\n"
   ]
  },
  {
   "cell_type": "code",
   "execution_count": 8,
   "id": "26882a1a",
   "metadata": {},
   "outputs": [],
   "source": [
    "import math\n",
    "from torch.optim.lr_scheduler import LambdaLR\n",
    "from torch.optim import Optimizer"
   ]
  },
  {
   "cell_type": "code",
   "execution_count": 9,
   "id": "3a2a695d",
   "metadata": {},
   "outputs": [],
   "source": [
    "def get_cosin_schedule_with_warmup(\n",
    "        optimizer: Optimizer,\n",
    "        num_warmup_steps: int,\n",
    "        num_training_steps: int,\n",
    "        num_cycles: float = 0.5,\n",
    "        last_epoch: int = -1\n",
    "):\n",
    "    def lr_lambda(current_step):\n",
    "        if current_step < num_warmup_steps:\n",
    "            return float(current_step) / float(max(1, num_warmup_steps))\n",
    "        progress = float(current_step - num_warmup_steps) / float(max(1, num_training_steps - num_warmup_steps))\n",
    "        return max(0.0, 0.5 * (1.0 + math.cos(math.pi * float(num_cycles) * 2.0 * progress)))\n",
    "    \n",
    "    return LambdaLR(optimizer, lr_lambda, last_epoch)"
   ]
  },
  {
   "cell_type": "code",
   "execution_count": 10,
   "id": "7472cd4b",
   "metadata": {},
   "outputs": [
    {
     "data": {
      "image/png": "[encoded data removed]",
      "text/plain": [
       "<Figure size 1000x500 with 1 Axes>"
      ]
     },
     "metadata": {},
     "output_type": "display_data"
    }
   ],
   "source": [
    "import matplotlib.pyplot as plt\n",
    "import numpy as np\n",
    "import math\n",
    "\n",
    "def get_lr_list(num_warmup_steps, num_training_steps, num_cycles=0.5):\n",
    "    lr_list = []\n",
    "    for step in range(num_training_steps):\n",
    "        if step < num_warmup_steps:\n",
    "            lr = float(step) / float(max(1, num_warmup_steps))\n",
    "        else:\n",
    "            progress = float(step - num_warmup_steps) / float(max(1, num_training_steps - num_warmup_steps))\n",
    "            lr = max(0.0, 0.5 * (1.0 + math.cos(math.pi * num_cycles * 2.0 * progress)))\n",
    "        lr_list.append(lr)\n",
    "    return lr_list\n",
    "\n",
    "# 设定参数\n",
    "num_training_steps = 1000\n",
    "num_warmup_steps = 100\n",
    "lr_list = get_lr_list(num_warmup_steps, num_training_steps)\n",
    "\n",
    "# 画图\n",
    "plt.figure(figsize=(10,5))\n",
    "plt.plot(lr_list)\n",
    "plt.title(\"Learning Rate Schedule: Warmup + Cosine Decay\")\n",
    "plt.xlabel(\"Training Step\")\n",
    "plt.ylabel(\"Relative Learning Rate\")\n",
    "plt.grid()\n",
    "plt.show()\n"
   ]
  },
  {
   "cell_type": "code",
   "execution_count": 11,
   "id": "8c652b78",
   "metadata": {},
   "outputs": [],
   "source": [
    "from tqdm import tqdm"
   ]
  },
  {
   "cell_type": "code",
   "execution_count": 12,
   "id": "b9486753",
   "metadata": {},
   "outputs": [],
   "source": [
    "def trainer(data_dir, segment_len, batch_size, n_wokers, d_model, dropout, lr, epochs, save_path, early_stop):\n",
    "    device = 'cuda' if torch.cuda.is_available() else 'cpu'\n",
    "    criterion = nn.CrossEntropyLoss()\n",
    "    train_loader, valid_loader, speaker_num = get_dataloader(data_dir, segment_len = segment_len, batch_size = batch_size, n_workers = n_wokers)\n",
    "    # for x, y in train_loader:\n",
    "    #     print(x)\n",
    "    #     print(y)\n",
    "    #     assert 1 == 2\n",
    "    model = Classifier(d_model = d_model, n_spks = speaker_num, dropout = dropout)\n",
    "    model.to(device)\n",
    "    optimizer = torch.optim.AdamW(model.parameters(), lr = lr)\n",
    "\n",
    "    total_steps = len(train_loader) * epochs\n",
    "    num_warmup_steps = int(total_steps * 0.07)\n",
    "    scheduler = get_cosin_schedule_with_warmup(optimizer = optimizer, num_warmup_steps = num_warmup_steps, num_training_steps = total_steps, num_cycles = 0.5, last_epoch = -1)\n",
    "\n",
    "    best_loss = math.inf\n",
    "    step = 0\n",
    "    early_stop_count = 0\n",
    "\n",
    "    for epoch in range(epochs):\n",
    "        model.train()\n",
    "        loss_record = []\n",
    "        acc_record = []\n",
    "        train_pbar = tqdm(train_loader, position = 0, leave = True)\n",
    "\n",
    "        for x, y in train_pbar:\n",
    "            optimizer.zero_grad()\n",
    "            x, y = x.to(device), y.to(device)\n",
    "            pred = model(x)\n",
    "            loss = criterion(pred, y)\n",
    "            loss.backward()\n",
    "            optimizer.step()\n",
    "            scheduler.step()\n",
    "            step += 1\n",
    "            acc = (pred.argmax(dim = -1) == y).float().mean()\n",
    "            # print(acc.item())\n",
    "            # assert 1 == 2\n",
    "            loss_record.append(loss.item())\n",
    "            acc_record.append(acc.item())\n",
    "\n",
    "            train_pbar.set_description(f'Epoch [{epoch + 1}/{epochs}]')\n",
    "            train_pbar.set_postfix({'Train loss': f'{loss.item():.5f}', 'Train acc': f'{acc.item():.5f}'})\n",
    "\n",
    "        mean_train_acc = sum(acc_record) / len(acc_record)\n",
    "        mean_train_loss = sum(loss_record) / len(loss_record)\n",
    "\n",
    "        model.eval()\n",
    "        loss_record = []\n",
    "        acc_record = []\n",
    "        valid_pbar = tqdm(valid_loader, position = 0, leave = True)\n",
    "        \n",
    "        for x, y in valid_pbar:\n",
    "            with torch.no_grad():\n",
    "                x, y = x.to(device), y.to(device)\n",
    "                pred = model(x)\n",
    "                loss = criterion(pred, y)\n",
    "                acc = (pred.argmax(dim = -1) == y).float().mean()\n",
    "                loss_record.append(loss.item())\n",
    "                acc_record.append(acc.item())\n",
    "                valid_pbar.set_description(f'Epoch [{epoch + 1}/{epochs}]')\n",
    "                valid_pbar.set_postfix({'Valid loss': f'{loss.item():.5f}', 'Valid acc': f'{acc.item():.5f}'})\n",
    "            \n",
    "        mean_valid_acc = sum(acc_record) / len(acc_record)\n",
    "        mean_valid_loss = sum(loss_record) / len(loss_record)\n",
    "        print(f'Train Loss: {mean_train_loss:.5f}, Train Acc: {mean_train_acc:.5f}, Valid Loss: {mean_valid_loss:.5f}, Valid Acc: {mean_valid_acc:.5f}')\n",
    "\n",
    "        if mean_valid_loss < best_loss:\n",
    "            best_loss = mean_valid_loss\n",
    "            torch.save(model.state_dict(), save_path)\n",
    "            print(f'Save model with loss {best_loss:.3f}')\n",
    "            early_stop_count = 0\n",
    "        else:\n",
    "            early_stop_count += 1\n",
    "\n",
    "        if early_stop_count >= early_stop:\n",
    "            print('\\n Model is not improving, so we halt the training session.')\n",
    "            return\n",
    "\n",
    "\n",
    "\n",
    "\n"
   ]
  },
  {
   "cell_type": "code",
   "execution_count": 13,
   "id": "91c0b031",
   "metadata": {},
   "outputs": [
    {
     "name": "stderr",
     "output_type": "stream",
     "text": [
      "Epoch [1/35]: 100%|██████████| 796/796 [11:29<00:00,  1.15it/s, Train loss=5.47061, Train acc=0.01562]\n",
      "Epoch [1/35]: 100%|██████████| 88/88 [01:08<00:00,  1.29it/s, Valid loss=5.42514, Valid acc=0.07812]\n"
     ]
    },
    {
     "name": "stdout",
     "output_type": "stream",
     "text": [
      "Train Loss: 6.15417, Train Acc: 0.00766, Valid Loss: 5.42314, Valid Acc: 0.03054\n",
      "Save model with loss 5.423\n"
     ]
    },
    {
     "name": "stderr",
     "output_type": "stream",
     "text": [
      "Epoch [2/35]: 100%|██████████| 796/796 [00:33<00:00, 23.95it/s, Train loss=3.91144, Train acc=0.15625]\n",
      "Epoch [2/35]: 100%|██████████| 88/88 [00:03<00:00, 24.24it/s, Valid loss=3.99120, Valid acc=0.14062]\n"
     ]
    },
    {
     "name": "stdout",
     "output_type": "stream",
     "text": [
      "Train Loss: 4.78220, Train Acc: 0.08024, Valid Loss: 4.34415, Valid Acc: 0.13406\n",
      "Save model with loss 4.344\n"
     ]
    },
    {
     "name": "stderr",
     "output_type": "stream",
     "text": [
      "Epoch [3/35]: 100%|██████████| 796/796 [00:29<00:00, 26.57it/s, Train loss=3.63737, Train acc=0.29688]\n",
      "Epoch [3/35]: 100%|██████████| 88/88 [00:02<00:00, 29.64it/s, Valid loss=3.65143, Valid acc=0.21875]\n"
     ]
    },
    {
     "name": "stdout",
     "output_type": "stream",
     "text": [
      "Train Loss: 3.99137, Train Acc: 0.17376, Valid Loss: 3.76106, Valid Acc: 0.21112\n",
      "Save model with loss 3.761\n"
     ]
    },
    {
     "name": "stderr",
     "output_type": "stream",
     "text": [
      "Epoch [4/35]: 100%|██████████| 796/796 [00:38<00:00, 20.90it/s, Train loss=3.29089, Train acc=0.28125]\n",
      "Epoch [4/35]: 100%|██████████| 88/88 [00:02<00:00, 30.24it/s, Valid loss=3.02150, Valid acc=0.23438]\n"
     ]
    },
    {
     "name": "stdout",
     "output_type": "stream",
     "text": [
      "Train Loss: 3.50738, Train Acc: 0.25473, Valid Loss: 3.41812, Valid Acc: 0.26705\n",
      "Save model with loss 3.418\n"
     ]
    },
    {
     "name": "stderr",
     "output_type": "stream",
     "text": [
      "Epoch [5/35]: 100%|██████████| 796/796 [00:30<00:00, 26.49it/s, Train loss=2.75190, Train acc=0.31250]\n",
      "Epoch [5/35]: 100%|██████████| 88/88 [00:02<00:00, 33.94it/s, Valid loss=3.31674, Valid acc=0.21875]\n"
     ]
    },
    {
     "name": "stdout",
     "output_type": "stream",
     "text": [
      "Train Loss: 3.18457, Train Acc: 0.30479, Valid Loss: 3.14789, Valid Acc: 0.31428\n",
      "Save model with loss 3.148\n"
     ]
    },
    {
     "name": "stderr",
     "output_type": "stream",
     "text": [
      "Epoch [6/35]: 100%|██████████| 796/796 [00:32<00:00, 24.34it/s, Train loss=3.00412, Train acc=0.34375]\n",
      "Epoch [6/35]: 100%|██████████| 88/88 [00:03<00:00, 28.27it/s, Valid loss=2.76425, Valid acc=0.34375]\n"
     ]
    },
    {
     "name": "stdout",
     "output_type": "stream",
     "text": [
      "Train Loss: 2.94592, Train Acc: 0.34772, Valid Loss: 3.06248, Valid Acc: 0.33860\n",
      "Save model with loss 3.062\n"
     ]
    },
    {
     "name": "stderr",
     "output_type": "stream",
     "text": [
      "Epoch [7/35]: 100%|██████████| 796/796 [00:31<00:00, 25.38it/s, Train loss=2.66479, Train acc=0.35938]\n",
      "Epoch [7/35]: 100%|██████████| 88/88 [00:02<00:00, 32.20it/s, Valid loss=2.56411, Valid acc=0.42188]\n"
     ]
    },
    {
     "name": "stdout",
     "output_type": "stream",
     "text": [
      "Train Loss: 2.78061, Train Acc: 0.38112, Valid Loss: 2.78794, Valid Acc: 0.37713\n",
      "Save model with loss 2.788\n"
     ]
    },
    {
     "name": "stderr",
     "output_type": "stream",
     "text": [
      "Epoch [8/35]: 100%|██████████| 796/796 [00:32<00:00, 24.81it/s, Train loss=2.83069, Train acc=0.35938]\n",
      "Epoch [8/35]: 100%|██████████| 88/88 [00:03<00:00, 28.00it/s, Valid loss=2.73299, Valid acc=0.40625]\n"
     ]
    },
    {
     "name": "stdout",
     "output_type": "stream",
     "text": [
      "Train Loss: 2.63558, Train Acc: 0.40753, Valid Loss: 2.67635, Valid Acc: 0.41175\n",
      "Save model with loss 2.676\n"
     ]
    },
    {
     "name": "stderr",
     "output_type": "stream",
     "text": [
      "Epoch [9/35]: 100%|██████████| 796/796 [00:30<00:00, 25.75it/s, Train loss=2.33358, Train acc=0.54688]\n",
      "Epoch [9/35]: 100%|██████████| 88/88 [00:02<00:00, 34.62it/s, Valid loss=2.75159, Valid acc=0.39062]\n"
     ]
    },
    {
     "name": "stdout",
     "output_type": "stream",
     "text": [
      "Train Loss: 2.50008, Train Acc: 0.43196, Valid Loss: 2.61594, Valid Acc: 0.42844\n",
      "Save model with loss 2.616\n"
     ]
    },
    {
     "name": "stderr",
     "output_type": "stream",
     "text": [
      "Epoch [10/35]: 100%|██████████| 796/796 [00:39<00:00, 20.39it/s, Train loss=2.44537, Train acc=0.39062]\n",
      "Epoch [10/35]: 100%|██████████| 88/88 [00:02<00:00, 33.88it/s, Valid loss=1.97978, Valid acc=0.51562]\n"
     ]
    },
    {
     "name": "stdout",
     "output_type": "stream",
     "text": [
      "Train Loss: 2.38731, Train Acc: 0.45560, Valid Loss: 2.55179, Valid Acc: 0.43643\n",
      "Save model with loss 2.552\n"
     ]
    },
    {
     "name": "stderr",
     "output_type": "stream",
     "text": [
      "Epoch [11/35]: 100%|██████████| 796/796 [00:32<00:00, 24.40it/s, Train loss=2.00976, Train acc=0.46875]\n",
      "Epoch [11/35]: 100%|██████████| 88/88 [00:03<00:00, 28.06it/s, Valid loss=2.08040, Valid acc=0.50000]\n"
     ]
    },
    {
     "name": "stdout",
     "output_type": "stream",
     "text": [
      "Train Loss: 2.28778, Train Acc: 0.47470, Valid Loss: 2.40563, Valid Acc: 0.46591\n",
      "Save model with loss 2.406\n"
     ]
    },
    {
     "name": "stderr",
     "output_type": "stream",
     "text": [
      "Epoch [12/35]: 100%|██████████| 796/796 [00:39<00:00, 20.13it/s, Train loss=2.14251, Train acc=0.57812]\n",
      "Epoch [12/35]: 100%|██████████| 88/88 [00:03<00:00, 26.09it/s, Valid loss=2.10771, Valid acc=0.53125]\n"
     ]
    },
    {
     "name": "stdout",
     "output_type": "stream",
     "text": [
      "Train Loss: 2.19877, Train Acc: 0.49346, Valid Loss: 2.36730, Valid Acc: 0.47869\n",
      "Save model with loss 2.367\n"
     ]
    },
    {
     "name": "stderr",
     "output_type": "stream",
     "text": [
      "Epoch [13/35]: 100%|██████████| 796/796 [00:38<00:00, 20.74it/s, Train loss=2.34868, Train acc=0.53125]\n",
      "Epoch [13/35]: 100%|██████████| 88/88 [00:03<00:00, 25.69it/s, Valid loss=2.58260, Valid acc=0.50000]\n"
     ]
    },
    {
     "name": "stdout",
     "output_type": "stream",
     "text": [
      "Train Loss: 2.10686, Train Acc: 0.51019, Valid Loss: 2.24998, Valid Acc: 0.49308\n",
      "Save model with loss 2.250\n"
     ]
    },
    {
     "name": "stderr",
     "output_type": "stream",
     "text": [
      "Epoch [14/35]: 100%|██████████| 796/796 [00:34<00:00, 23.37it/s, Train loss=1.83870, Train acc=0.54688]\n",
      "Epoch [14/35]: 100%|██████████| 88/88 [00:02<00:00, 33.22it/s, Valid loss=1.76927, Valid acc=0.59375]\n"
     ]
    },
    {
     "name": "stdout",
     "output_type": "stream",
     "text": [
      "Train Loss: 2.04137, Train Acc: 0.52471, Valid Loss: 2.18922, Valid Acc: 0.50284\n",
      "Save model with loss 2.189\n"
     ]
    },
    {
     "name": "stderr",
     "output_type": "stream",
     "text": [
      "Epoch [15/35]: 100%|██████████| 796/796 [00:30<00:00, 26.43it/s, Train loss=2.31581, Train acc=0.37500]\n",
      "Epoch [15/35]: 100%|██████████| 88/88 [00:03<00:00, 29.04it/s, Valid loss=2.02529, Valid acc=0.45312]\n"
     ]
    },
    {
     "name": "stdout",
     "output_type": "stream",
     "text": [
      "Train Loss: 1.95586, Train Acc: 0.54138, Valid Loss: 2.16043, Valid Acc: 0.51278\n",
      "Save model with loss 2.160\n"
     ]
    },
    {
     "name": "stderr",
     "output_type": "stream",
     "text": [
      "Epoch [16/35]: 100%|██████████| 796/796 [00:32<00:00, 24.35it/s, Train loss=2.47493, Train acc=0.35938]\n",
      "Epoch [16/35]: 100%|██████████| 88/88 [00:03<00:00, 29.15it/s, Valid loss=2.26559, Valid acc=0.51562]\n"
     ]
    },
    {
     "name": "stdout",
     "output_type": "stream",
     "text": [
      "Train Loss: 1.90949, Train Acc: 0.55057, Valid Loss: 2.04867, Valid Acc: 0.53445\n",
      "Save model with loss 2.049\n"
     ]
    },
    {
     "name": "stderr",
     "output_type": "stream",
     "text": [
      "Epoch [17/35]: 100%|██████████| 796/796 [00:32<00:00, 24.40it/s, Train loss=1.91950, Train acc=0.51562]\n",
      "Epoch [17/35]: 100%|██████████| 88/88 [00:03<00:00, 28.20it/s, Valid loss=1.53888, Valid acc=0.60938]\n"
     ]
    },
    {
     "name": "stdout",
     "output_type": "stream",
     "text": [
      "Train Loss: 1.85024, Train Acc: 0.56515, Valid Loss: 2.03594, Valid Acc: 0.54315\n",
      "Save model with loss 2.036\n"
     ]
    },
    {
     "name": "stderr",
     "output_type": "stream",
     "text": [
      "Epoch [18/35]: 100%|██████████| 796/796 [00:37<00:00, 21.43it/s, Train loss=1.81136, Train acc=0.57812]\n",
      "Epoch [18/35]: 100%|██████████| 88/88 [00:03<00:00, 28.87it/s, Valid loss=2.08642, Valid acc=0.60938]\n"
     ]
    },
    {
     "name": "stdout",
     "output_type": "stream",
     "text": [
      "Train Loss: 1.80673, Train Acc: 0.57153, Valid Loss: 1.97844, Valid Acc: 0.55504\n",
      "Save model with loss 1.978\n"
     ]
    },
    {
     "name": "stderr",
     "output_type": "stream",
     "text": [
      "Epoch [19/35]: 100%|██████████| 796/796 [00:31<00:00, 24.98it/s, Train loss=1.25411, Train acc=0.71875]\n",
      "Epoch [19/35]: 100%|██████████| 88/88 [00:02<00:00, 30.30it/s, Valid loss=1.76099, Valid acc=0.53125]\n"
     ]
    },
    {
     "name": "stdout",
     "output_type": "stream",
     "text": [
      "Train Loss: 1.74962, Train Acc: 0.58604, Valid Loss: 1.95697, Valid Acc: 0.55895\n",
      "Save model with loss 1.957\n"
     ]
    },
    {
     "name": "stderr",
     "output_type": "stream",
     "text": [
      "Epoch [20/35]: 100%|██████████| 796/796 [00:32<00:00, 24.85it/s, Train loss=1.51597, Train acc=0.65625]\n",
      "Epoch [20/35]: 100%|██████████| 88/88 [00:02<00:00, 35.06it/s, Valid loss=1.43749, Valid acc=0.59375]\n"
     ]
    },
    {
     "name": "stdout",
     "output_type": "stream",
     "text": [
      "Train Loss: 1.69895, Train Acc: 0.59925, Valid Loss: 1.93776, Valid Acc: 0.57298\n",
      "Save model with loss 1.938\n"
     ]
    },
    {
     "name": "stderr",
     "output_type": "stream",
     "text": [
      "Epoch [21/35]: 100%|██████████| 796/796 [00:31<00:00, 25.00it/s, Train loss=1.25462, Train acc=0.71875]\n",
      "Epoch [21/35]: 100%|██████████| 88/88 [00:03<00:00, 28.77it/s, Valid loss=2.06422, Valid acc=0.51562]\n"
     ]
    },
    {
     "name": "stdout",
     "output_type": "stream",
     "text": [
      "Train Loss: 1.65526, Train Acc: 0.60600, Valid Loss: 1.89136, Valid Acc: 0.57298\n",
      "Save model with loss 1.891\n"
     ]
    },
    {
     "name": "stderr",
     "output_type": "stream",
     "text": [
      "Epoch [22/35]: 100%|██████████| 796/796 [00:31<00:00, 25.02it/s, Train loss=2.05701, Train acc=0.54688]\n",
      "Epoch [22/35]: 100%|██████████| 88/88 [00:03<00:00, 27.26it/s, Valid loss=2.03968, Valid acc=0.51562]\n"
     ]
    },
    {
     "name": "stdout",
     "output_type": "stream",
     "text": [
      "Train Loss: 1.60331, Train Acc: 0.61719, Valid Loss: 1.87863, Valid Acc: 0.57724\n",
      "Save model with loss 1.879\n"
     ]
    },
    {
     "name": "stderr",
     "output_type": "stream",
     "text": [
      "Epoch [23/35]: 100%|██████████| 796/796 [00:36<00:00, 21.74it/s, Train loss=1.79088, Train acc=0.54688]\n",
      "Epoch [23/35]: 100%|██████████| 88/88 [00:02<00:00, 30.00it/s, Valid loss=2.37981, Valid acc=0.54688]\n"
     ]
    },
    {
     "name": "stdout",
     "output_type": "stream",
     "text": [
      "Train Loss: 1.56692, Train Acc: 0.62710, Valid Loss: 1.85886, Valid Acc: 0.57617\n",
      "Save model with loss 1.859\n"
     ]
    },
    {
     "name": "stderr",
     "output_type": "stream",
     "text": [
      "Epoch [24/35]: 100%|██████████| 796/796 [00:38<00:00, 20.59it/s, Train loss=1.49076, Train acc=0.62500]\n",
      "Epoch [24/35]: 100%|██████████| 88/88 [00:02<00:00, 30.08it/s, Valid loss=2.04275, Valid acc=0.57812]\n"
     ]
    },
    {
     "name": "stdout",
     "output_type": "stream",
     "text": [
      "Train Loss: 1.53900, Train Acc: 0.63372, Valid Loss: 1.79807, Valid Acc: 0.59180\n",
      "Save model with loss 1.798\n"
     ]
    },
    {
     "name": "stderr",
     "output_type": "stream",
     "text": [
      "Epoch [25/35]: 100%|██████████| 796/796 [00:34<00:00, 22.84it/s, Train loss=1.27042, Train acc=0.67188]\n",
      "Epoch [25/35]: 100%|██████████| 88/88 [00:03<00:00, 28.81it/s, Valid loss=1.67195, Valid acc=0.59375]\n"
     ]
    },
    {
     "name": "stdout",
     "output_type": "stream",
     "text": [
      "Train Loss: 1.50294, Train Acc: 0.63953, Valid Loss: 1.78110, Valid Acc: 0.60352\n",
      "Save model with loss 1.781\n"
     ]
    },
    {
     "name": "stderr",
     "output_type": "stream",
     "text": [
      "Epoch [26/35]: 100%|██████████| 796/796 [00:31<00:00, 25.42it/s, Train loss=1.23586, Train acc=0.68750]\n",
      "Epoch [26/35]: 100%|██████████| 88/88 [00:03<00:00, 28.68it/s, Valid loss=1.33200, Valid acc=0.65625]\n"
     ]
    },
    {
     "name": "stdout",
     "output_type": "stream",
     "text": [
      "Train Loss: 1.48788, Train Acc: 0.64575, Valid Loss: 1.73918, Valid Acc: 0.60387\n",
      "Save model with loss 1.739\n"
     ]
    },
    {
     "name": "stderr",
     "output_type": "stream",
     "text": [
      "Epoch [27/35]: 100%|██████████| 796/796 [00:32<00:00, 24.52it/s, Train loss=1.47198, Train acc=0.62500]\n",
      "Epoch [27/35]: 100%|██████████| 88/88 [00:02<00:00, 29.83it/s, Valid loss=2.72134, Valid acc=0.51562]\n"
     ]
    },
    {
     "name": "stdout",
     "output_type": "stream",
     "text": [
      "Train Loss: 1.45161, Train Acc: 0.65095, Valid Loss: 1.78696, Valid Acc: 0.60263\n"
     ]
    },
    {
     "name": "stderr",
     "output_type": "stream",
     "text": [
      "Epoch [28/35]: 100%|██████████| 796/796 [00:33<00:00, 23.58it/s, Train loss=1.21210, Train acc=0.70312]\n",
      "Epoch [28/35]: 100%|██████████| 88/88 [00:02<00:00, 29.95it/s, Valid loss=1.78551, Valid acc=0.56250]\n"
     ]
    },
    {
     "name": "stdout",
     "output_type": "stream",
     "text": [
      "Train Loss: 1.43410, Train Acc: 0.65753, Valid Loss: 1.72510, Valid Acc: 0.61275\n",
      "Save model with loss 1.725\n"
     ]
    },
    {
     "name": "stderr",
     "output_type": "stream",
     "text": [
      "Epoch [29/35]: 100%|██████████| 796/796 [00:31<00:00, 25.59it/s, Train loss=1.46613, Train acc=0.70312]\n",
      "Epoch [29/35]: 100%|██████████| 88/88 [00:02<00:00, 31.19it/s, Valid loss=1.76560, Valid acc=0.56250]\n"
     ]
    },
    {
     "name": "stdout",
     "output_type": "stream",
     "text": [
      "Train Loss: 1.40923, Train Acc: 0.66487, Valid Loss: 1.74744, Valid Acc: 0.60760\n"
     ]
    },
    {
     "name": "stderr",
     "output_type": "stream",
     "text": [
      "Epoch [30/35]: 100%|██████████| 796/796 [00:32<00:00, 24.20it/s, Train loss=1.03282, Train acc=0.76562]\n",
      "Epoch [30/35]: 100%|██████████| 88/88 [00:03<00:00, 28.43it/s, Valid loss=1.45630, Valid acc=0.60938]\n"
     ]
    },
    {
     "name": "stdout",
     "output_type": "stream",
     "text": [
      "Train Loss: 1.38999, Train Acc: 0.66559, Valid Loss: 1.70614, Valid Acc: 0.61310\n",
      "Save model with loss 1.706\n"
     ]
    },
    {
     "name": "stderr",
     "output_type": "stream",
     "text": [
      "Epoch [31/35]: 100%|██████████| 796/796 [00:39<00:00, 19.99it/s, Train loss=1.54617, Train acc=0.67188]\n",
      "Epoch [31/35]: 100%|██████████| 88/88 [00:03<00:00, 26.39it/s, Valid loss=1.59460, Valid acc=0.67188]\n"
     ]
    },
    {
     "name": "stdout",
     "output_type": "stream",
     "text": [
      "Train Loss: 1.37748, Train Acc: 0.67191, Valid Loss: 1.69990, Valid Acc: 0.61470\n",
      "Save model with loss 1.700\n"
     ]
    },
    {
     "name": "stderr",
     "output_type": "stream",
     "text": [
      "Epoch [32/35]: 100%|██████████| 796/796 [00:34<00:00, 23.23it/s, Train loss=1.33012, Train acc=0.64062]\n",
      "Epoch [32/35]: 100%|██████████| 88/88 [00:03<00:00, 27.68it/s, Valid loss=1.73417, Valid acc=0.64062]\n"
     ]
    },
    {
     "name": "stdout",
     "output_type": "stream",
     "text": [
      "Train Loss: 1.36861, Train Acc: 0.67333, Valid Loss: 1.66039, Valid Acc: 0.62109\n",
      "Save model with loss 1.660\n"
     ]
    },
    {
     "name": "stderr",
     "output_type": "stream",
     "text": [
      "Epoch [33/35]: 100%|██████████| 796/796 [00:40<00:00, 19.90it/s, Train loss=1.25088, Train acc=0.75000]\n",
      "Epoch [33/35]: 100%|██████████| 88/88 [00:03<00:00, 26.49it/s, Valid loss=2.06317, Valid acc=0.65625]\n"
     ]
    },
    {
     "name": "stdout",
     "output_type": "stream",
     "text": [
      "Train Loss: 1.35566, Train Acc: 0.67637, Valid Loss: 1.70120, Valid Acc: 0.61879\n"
     ]
    },
    {
     "name": "stderr",
     "output_type": "stream",
     "text": [
      "Epoch [34/35]: 100%|██████████| 796/796 [00:39<00:00, 20.28it/s, Train loss=1.07698, Train acc=0.73438]\n",
      "Epoch [34/35]: 100%|██████████| 88/88 [00:02<00:00, 34.95it/s, Valid loss=1.64796, Valid acc=0.57812]\n"
     ]
    },
    {
     "name": "stdout",
     "output_type": "stream",
     "text": [
      "Train Loss: 1.35079, Train Acc: 0.67698, Valid Loss: 1.68949, Valid Acc: 0.62216\n"
     ]
    },
    {
     "name": "stderr",
     "output_type": "stream",
     "text": [
      "Epoch [35/35]: 100%|██████████| 796/796 [00:31<00:00, 25.49it/s, Train loss=1.39564, Train acc=0.65625]\n",
      "Epoch [35/35]: 100%|██████████| 88/88 [00:02<00:00, 32.56it/s, Valid loss=1.53160, Valid acc=0.59375]"
     ]
    },
    {
     "name": "stdout",
     "output_type": "stream",
     "text": [
      "Train Loss: 1.34324, Train Acc: 0.68008, Valid Loss: 1.68658, Valid Acc: 0.61701\n"
     ]
    },
    {
     "name": "stderr",
     "output_type": "stream",
     "text": [
      "\n"
     ]
    }
   ],
   "source": [
    "trainer('./data/Dataset', 120, 64, 0, 80, 0.1, 1e-3, 35, './model.ckpt', 300)"
   ]
  },
  {
   "cell_type": "markdown",
   "id": "d9485ba1",
   "metadata": {},
   "source": [
    "# 推理的准备工作"
   ]
  },
  {
   "cell_type": "code",
   "execution_count": 14,
   "id": "80ac8e6c",
   "metadata": {},
   "outputs": [],
   "source": [
    "class InferenceDataset(Dataset):\n",
    "    def __init__(self, data_dir):\n",
    "        self.data_dir = Path(data_dir)\n",
    "        # mapping_path = self.data_dir / 'mapping.json'\n",
    "        # id2speaker = json.load(mapping_path.open())['id2speaker']\n",
    "        testdata_path = self.data_dir / 'testdata.json'\n",
    "        testdata = json.load(testdata_path.open())['utterances']\n",
    "        self.data = []\n",
    "        for utterance in testdata:\n",
    "            self.data.append(utterance['feature_path'])\n",
    "\n",
    "    def __len__(self):\n",
    "        return len(self.data)\n",
    "\n",
    "    def __getitem__(self, idx):\n",
    "        feat_path = self.data_dir / self.data[idx]\n",
    "        mel = torch.load(feat_path)\n",
    "        return self.data[idx], mel"
   ]
  },
  {
   "cell_type": "code",
   "execution_count": 15,
   "id": "bc68c731",
   "metadata": {},
   "outputs": [],
   "source": [
    "test_dataset = InferenceDataset('./data/Dataset')\n",
    "test_loader = DataLoader(test_dataset, 1, False)"
   ]
  },
  {
   "cell_type": "code",
   "execution_count": 16,
   "id": "cc2c1ef5",
   "metadata": {},
   "outputs": [
    {
     "data": {
      "text/plain": [
       "'uttr-b52ddeaacf1b42ff9c947eadce3e1966.pt'"
      ]
     },
     "execution_count": 16,
     "metadata": {},
     "output_type": "execute_result"
    }
   ],
   "source": [
    "test_dataset[0][0]"
   ]
  },
  {
   "cell_type": "code",
   "execution_count": 17,
   "id": "1ad364bf",
   "metadata": {},
   "outputs": [
    {
     "data": {
      "text/plain": [
       "Classifier(\n",
       "  (prenet): Linear(in_features=40, out_features=80, bias=True)\n",
       "  (encoder_layer): TransformerEncoderLayer(\n",
       "    (self_attn): MultiheadAttention(\n",
       "      (out_proj): NonDynamicallyQuantizableLinear(in_features=80, out_features=80, bias=True)\n",
       "    )\n",
       "    (linear1): Linear(in_features=80, out_features=256, bias=True)\n",
       "    (dropout): Dropout(p=0.1, inplace=False)\n",
       "    (linear2): Linear(in_features=256, out_features=80, bias=True)\n",
       "    (norm1): LayerNorm((80,), eps=1e-05, elementwise_affine=True)\n",
       "    (norm2): LayerNorm((80,), eps=1e-05, elementwise_affine=True)\n",
       "    (dropout1): Dropout(p=0.1, inplace=False)\n",
       "    (dropout2): Dropout(p=0.1, inplace=False)\n",
       "  )\n",
       "  (pred_layer): Sequential(\n",
       "    (0): Linear(in_features=80, out_features=80, bias=True)\n",
       "    (1): ReLU()\n",
       "    (2): Linear(in_features=80, out_features=600, bias=True)\n",
       "  )\n",
       ")"
      ]
     },
     "execution_count": 17,
     "metadata": {},
     "output_type": "execute_result"
    }
   ],
   "source": [
    "device = 'cuda' if torch.cuda.is_available() else 'cpu'\n",
    "model_best = Classifier()\n",
    "model_best.load_state_dict(torch.load('./model.ckpt'))\n",
    "model_best.to(device)"
   ]
  },
  {
   "cell_type": "code",
   "execution_count": 18,
   "id": "2988a8e5",
   "metadata": {},
   "outputs": [],
   "source": [
    "mapping_path = Path('./data/Dataset/mapping.json')\n",
    "id2speaker = json.load(mapping_path.open())['id2speaker']"
   ]
  },
  {
   "cell_type": "markdown",
   "id": "7b9bbb67",
   "metadata": {},
   "source": [
    "# 正式推理"
   ]
  },
  {
   "cell_type": "code",
   "execution_count": 19,
   "id": "299023d9",
   "metadata": {},
   "outputs": [
    {
     "name": "stderr",
     "output_type": "stream",
     "text": [
      "100%|██████████| 8000/8000 [01:48<00:00, 73.52it/s]\n"
     ]
    }
   ],
   "source": [
    "Id = []\n",
    "Category = []\n",
    "model_best.eval()\n",
    "with torch.no_grad():\n",
    "    for feat_path, mel in tqdm(test_loader):\n",
    "        mel = mel.to(device)\n",
    "        pred = model_best(mel)\n",
    "        pred = pred.argmax(dim = -1)\n",
    "        # assert 1 == 2\n",
    "        Id.append(feat_path[0])\n",
    "        Category.append(id2speaker[str(pred.item())])\n",
    "        # break"
   ]
  },
  {
   "cell_type": "markdown",
   "id": "97ffd7fb",
   "metadata": {},
   "source": [
    "# 保存结果"
   ]
  },
  {
   "cell_type": "code",
   "execution_count": 20,
   "id": "f346c963",
   "metadata": {},
   "outputs": [],
   "source": [
    "import pandas as pd"
   ]
  },
  {
   "cell_type": "code",
   "execution_count": 21,
   "id": "ff3e8292",
   "metadata": {},
   "outputs": [],
   "source": [
    "df = pd.DataFrame()\n",
    "df['Id'] = Id\n",
    "df[\"Category\"] = Category\n",
    "df.to_csv('submission.csv', index = False)"
   ]
  },
  {
   "cell_type": "code",
   "execution_count": 22,
   "id": "0134af2f",
   "metadata": {},
   "outputs": [
    {
     "data": {
      "text/html": [
       "<div>\n",
       "<style scoped>\n",
       "    .dataframe tbody tr th:only-of-type {\n",
       "        vertical-align: middle;\n",
       "    }\n",
       "\n",
       "    .dataframe tbody tr th {\n",
       "        vertical-align: top;\n",
       "    }\n",
       "\n",
       "    .dataframe thead th {\n",
       "        text-align: right;\n",
       "    }\n",
       "</style>\n",
       "<table border=\"1\" class=\"dataframe\">\n",
       "  <thead>\n",
       "    <tr style=\"text-align: right;\">\n",
       "      <th></th>\n",
       "      <th>Id</th>\n",
       "      <th>Category</th>\n",
       "    </tr>\n",
       "  </thead>\n",
       "  <tbody>\n",
       "    <tr>\n",
       "      <th>0</th>\n",
       "      <td>uttr-b52ddeaacf1b42ff9c947eadce3e1966.pt</td>\n",
       "      <td>id03196</td>\n",
       "    </tr>\n",
       "    <tr>\n",
       "      <th>1</th>\n",
       "      <td>uttr-fc88b32cb5c94af6817ec97e0a145d74.pt</td>\n",
       "      <td>id09112</td>\n",
       "    </tr>\n",
       "    <tr>\n",
       "      <th>2</th>\n",
       "      <td>uttr-5c72e33935944ea692755ed5d2d8b0df.pt</td>\n",
       "      <td>id06044</td>\n",
       "    </tr>\n",
       "    <tr>\n",
       "      <th>3</th>\n",
       "      <td>uttr-7b23108157044861b524fb95e8183014.pt</td>\n",
       "      <td>id06042</td>\n",
       "    </tr>\n",
       "    <tr>\n",
       "      <th>4</th>\n",
       "      <td>uttr-f8ad4eed47d14d7198bc81552379ca0c.pt</td>\n",
       "      <td>id02231</td>\n",
       "    </tr>\n",
       "    <tr>\n",
       "      <th>...</th>\n",
       "      <td>...</td>\n",
       "      <td>...</td>\n",
       "    </tr>\n",
       "    <tr>\n",
       "      <th>7995</th>\n",
       "      <td>uttr-9f892aafd3394832bcd40e72823a39fb.pt</td>\n",
       "      <td>id03057</td>\n",
       "    </tr>\n",
       "    <tr>\n",
       "      <th>7996</th>\n",
       "      <td>uttr-44097dc4571b473799f7968314428f5d.pt</td>\n",
       "      <td>id06940</td>\n",
       "    </tr>\n",
       "    <tr>\n",
       "      <th>7997</th>\n",
       "      <td>uttr-f43a38e2addf4b239bc4057283444652.pt</td>\n",
       "      <td>id00508</td>\n",
       "    </tr>\n",
       "    <tr>\n",
       "      <th>7998</th>\n",
       "      <td>uttr-c7e5673a787a4874a63eb1961cd49b81.pt</td>\n",
       "      <td>id06311</td>\n",
       "    </tr>\n",
       "    <tr>\n",
       "      <th>7999</th>\n",
       "      <td>uttr-2421915358f84cfeb5cb6a2d653b3d56.pt</td>\n",
       "      <td>id05510</td>\n",
       "    </tr>\n",
       "  </tbody>\n",
       "</table>\n",
       "<p>8000 rows × 2 columns</p>\n",
       "</div>"
      ],
      "text/plain": [
       "                                            Id Category\n",
       "0     uttr-b52ddeaacf1b42ff9c947eadce3e1966.pt  id03196\n",
       "1     uttr-fc88b32cb5c94af6817ec97e0a145d74.pt  id09112\n",
       "2     uttr-5c72e33935944ea692755ed5d2d8b0df.pt  id06044\n",
       "3     uttr-7b23108157044861b524fb95e8183014.pt  id06042\n",
       "4     uttr-f8ad4eed47d14d7198bc81552379ca0c.pt  id02231\n",
       "...                                        ...      ...\n",
       "7995  uttr-9f892aafd3394832bcd40e72823a39fb.pt  id03057\n",
       "7996  uttr-44097dc4571b473799f7968314428f5d.pt  id06940\n",
       "7997  uttr-f43a38e2addf4b239bc4057283444652.pt  id00508\n",
       "7998  uttr-c7e5673a787a4874a63eb1961cd49b81.pt  id06311\n",
       "7999  uttr-2421915358f84cfeb5cb6a2d653b3d56.pt  id05510\n",
       "\n",
       "[8000 rows x 2 columns]"
      ]
     },
     "execution_count": 22,
     "metadata": {},
     "output_type": "execute_result"
    }
   ],
   "source": [
    "df"
   ]
  },
  {
   "cell_type": "code",
   "execution_count": 23,
   "id": "3adfa940",
   "metadata": {},
   "outputs": [
    {
     "data": {
      "text/plain": [
       "0.0016666666666666668"
      ]
     },
     "execution_count": 23,
     "metadata": {},
     "output_type": "execute_result"
    }
   ],
   "source": [
    "1 / 600"
   ]
  },
  {
   "cell_type": "code",
   "execution_count": null,
   "id": "bbfec6a7",
   "metadata": {},
   "outputs": [],
   "source": []
  }
 ],
 "metadata": {
  "kernelspec": {
   "display_name": "doog",
   "language": "python",
   "name": "python3"
  },
  "language_info": {
   "codemirror_mode": {
    "name": "ipython",
    "version": 3
   },
   "file_extension": ".py",
   "mimetype": "text/x-python",
   "name": "python",
   "nbconvert_exporter": "python",
   "pygments_lexer": "ipython3",
   "version": "3.10.6"
  }
 },
 "nbformat": 4,
 "nbformat_minor": 5
}
